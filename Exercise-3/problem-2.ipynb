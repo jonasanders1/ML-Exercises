{
 "cells": [
  {
   "cell_type": "markdown",
   "metadata": {},
   "source": [
    "# Problem 2"
   ]
  },
  {
   "cell_type": "markdown",
   "metadata": {},
   "source": [
    "2a)\n",
    "\n",
    "- Implement your own, vectorized, version of the logistic regression discrimination algorithm. (Gradient decent) \n",
    "\n",
    "- It might help if you first write it as pseudo-code before you do the actual implementation!\n",
    "- Note that this is challenging! if you found this too challenging, you may iterate over the samples. however, do not iterate over the dimensions of the features. \n",
    "\n",
    "- In the file tictac_end.csv, the end configurations 958 different tic-tac-toe games are provided. Each row represents a different outcome, with the first element being 1 if player x won, and 0 otherwise. The rest of the row represents the board, such that, when reshaped to a 3 x 3 array, the original board ir recovered. "
   ]
  },
  {
   "cell_type": "code",
   "execution_count": 136,
   "metadata": {},
   "outputs": [],
   "source": [
    "import pandas as pd\n",
    "import numpy as np\n",
    "from matplotlib.pyplot import xlabel\n",
    "import matplotlib.pyplot as plt\n",
    "\n",
    "\n",
    "\n",
    "def sigmoid(z) :\n",
    "  return 1/(1+np.exp(-z))"
   ]
  },
  {
   "cell_type": "code",
   "execution_count": 137,
   "metadata": {},
   "outputs": [],
   "source": [
    "\n",
    "def gradient_descent(X: np.ndarray, y: np.ndarray) :\n",
    "    # X will need the bias column as the first column\n",
    "    N, d = X.shape  # N samples in d-1 features\n",
    "    # w = np.random.randn(d,1)   # The + 1 is due to the bias...\n",
    "    rng = np.random.default_rng()\n",
    "    w = rng.standard_normal((d,1))   \n",
    "    numIter = 0  # Inital number of iterations\n",
    "    eta = 0.5    # Learning rate\n",
    "    prev_error = 0\n",
    "    total_error = 1\n",
    "    tolerance = 0.0000001\n",
    "    training_errors = []\n",
    "    while abs(total_error - prev_error) > tolerance :\n",
    "        prev_error = total_error\n",
    "        z = X @ w\n",
    "        h = sigmoid(z).reshape(z.size,1)\n",
    "        \n",
    "        grad = (X.T @ (h - y))/N   # Gradients. Need to transpose X so it will fit the matrix multiplication.\n",
    "        w = w - eta*grad\n",
    "        total_error = (np.sqrt((h - y).T @ (h - y)/N))\n",
    "        numIter += 1\n",
    "        training_errors.append(total_error.item())\n",
    "        # print (total_error)\n",
    "\n",
    "    return w, numIter, training_errors"
   ]
  },
  {
   "cell_type": "markdown",
   "metadata": {},
   "source": [
    "### 2b) \n",
    "\n",
    "Test your classifier using the tic-tac-toe end-game dataset. Report the confusion matrix and the classification accuracy.\n"
   ]
  },
  {
   "cell_type": "code",
   "execution_count": 138,
   "metadata": {},
   "outputs": [
    {
     "name": "stdout",
     "output_type": "stream",
     "text": [
      "Number of epochs until convergence:  7653\n"
     ]
    }
   ],
   "source": [
    "\n",
    "\n",
    "data = pd.read_csv(\"tictac-end.csv\", skiprows=7, delimiter=\" \")\n",
    "data = data.sample(frac=1.0, replace=False)\n",
    "X = data.iloc[:, 1:].to_numpy() # get all columns but the first one \n",
    "y = data.iloc[:,0].to_numpy() # get the first column\n",
    "\n",
    "N , d = X.shape\n",
    "endTrain = int(N*0.7)\n",
    "\n",
    "# Splitting up into training and test sets for X (games) and y (outcome 1 or 0)\n",
    "X_train = X[:endTrain,:]\n",
    "X_test = X[endTrain+1:,:]\n",
    "\n",
    "y = np.reshape(y, (N,1)) # shape it as one colum \n",
    "y_train = y[:endTrain,:]\n",
    "y_test = y[endTrain+1:,:]\n",
    "\n",
    "# Bias\n",
    "bias = np.ones((endTrain,1))\n",
    "X_train = np.concatenate((bias, X_train), axis=1) # Added bias column to X_train\n",
    "\n",
    "\n",
    "w, epochs, errors = gradient_descent(X_train, y_train)\n",
    "print(\"Number of epochs until convergence: \", epochs)\n",
    "\n"
   ]
  },
  {
   "cell_type": "markdown",
   "metadata": {},
   "source": [
    "## Making predictions on the Test set"
   ]
  },
  {
   "cell_type": "code",
   "execution_count": 139,
   "metadata": {},
   "outputs": [
    {
     "name": "stdout",
     "output_type": "stream",
     "text": [
      "Accuracy on the training set:  0.9820627802690582\n",
      "Accuracy on the test set:  0.9860627177700348\n"
     ]
    }
   ],
   "source": [
    "def predict(w, X):\n",
    "  z = X @ w\n",
    "  probabilities = sigmoid(z)\n",
    "  return (probabilities >= 0.5).astype(int)\n",
    "  \n",
    "\n",
    "\n",
    "bias = np.ones((X_test.shape[0],1))\n",
    "X_test = np.concatenate((bias,X_test), axis=1)\n",
    "\n",
    "# Training Accuracy\n",
    "y_pred = predict(w, X_train)\n",
    "accuracy = np.mean(y_pred == y_train)\n",
    "print(\"Accuracy on the training set: \", accuracy)\n",
    "\n",
    "# Test Accuracy\n",
    "y_pred = predict(w, X_test)\n",
    "accuracy = np.mean(y_pred == y_test)\n",
    "print(\"Accuracy on the test set: \", accuracy)\n"
   ]
  },
  {
   "cell_type": "markdown",
   "metadata": {},
   "source": [
    "# Confusion Matrix (without scikit-learn  )"
   ]
  },
  {
   "cell_type": "markdown",
   "metadata": {},
   "source": [
    "#### 1. True positives (TP): Labels is 1, and the model predicted 1"
   ]
  },
  {
   "cell_type": "code",
   "execution_count": 140,
   "metadata": {},
   "outputs": [
    {
     "name": "stdout",
     "output_type": "stream",
     "text": [
      "TP, 179\n"
     ]
    }
   ],
   "source": [
    "TP = np.sum((y_test == 1) & (y_pred == 1))\n",
    "print(f'TP, {TP}')\n"
   ]
  },
  {
   "cell_type": "markdown",
   "metadata": {},
   "source": [
    "#### 2. True negatives (TN): Labels is 0, and the model predicted 0"
   ]
  },
  {
   "cell_type": "code",
   "execution_count": 141,
   "metadata": {},
   "outputs": [
    {
     "name": "stdout",
     "output_type": "stream",
     "text": [
      "TN, 104\n"
     ]
    }
   ],
   "source": [
    "TN = np.sum((y_test == 0) & (y_pred == 0))\n",
    "print(f'TN, {TN}')"
   ]
  },
  {
   "cell_type": "markdown",
   "metadata": {},
   "source": [
    "#### 3. False positives (FP): Labels is 0, but the model predicted 1"
   ]
  },
  {
   "cell_type": "code",
   "execution_count": 142,
   "metadata": {},
   "outputs": [
    {
     "name": "stdout",
     "output_type": "stream",
     "text": [
      "FP, 4\n"
     ]
    }
   ],
   "source": [
    "FP = np.sum((y_test == 0) & (y_pred == 1))\n",
    "print(f'FP, {FP}')"
   ]
  },
  {
   "cell_type": "markdown",
   "metadata": {},
   "source": [
    "#### 4. False negatives (FN): Labels is 1, and the model predicted 0"
   ]
  },
  {
   "cell_type": "code",
   "execution_count": 143,
   "metadata": {},
   "outputs": [
    {
     "name": "stdout",
     "output_type": "stream",
     "text": [
      "FN, 0\n"
     ]
    }
   ],
   "source": [
    "FN = np.sum((y_test == 1) & (y_pred == 0))\n",
    "print(f'FN, {FN}')"
   ]
  },
  {
   "cell_type": "markdown",
   "metadata": {},
   "source": [
    "## Creating the Confusion Matrix"
   ]
  },
  {
   "cell_type": "code",
   "execution_count": 144,
   "metadata": {},
   "outputs": [
    {
     "name": "stdout",
     "output_type": "stream",
     "text": [
      "Confusion Matrix: \n",
      " [[104   4]\n",
      " [  0 179]]\n"
     ]
    }
   ],
   "source": [
    "confusion_matrix = np.array([[TN, FP], [FN, TP]])\n",
    "print(f'Confusion Matrix: \\n {confusion_matrix}')"
   ]
  },
  {
   "cell_type": "markdown",
   "metadata": {},
   "source": [
    "# Plotting the loss over iterations"
   ]
  },
  {
   "cell_type": "code",
   "execution_count": 145,
   "metadata": {},
   "outputs": [
    {
     "data": {
      "image/png": "[encoded data removed]",
      "text/plain": [
       "<Figure size 640x480 with 1 Axes>"
      ]
     },
     "metadata": {},
     "output_type": "display_data"
    }
   ],
   "source": [
    "plt.plot(range(epochs), errors)\n",
    "plt.xlabel('Epochs')\n",
    "plt.ylabel('Training Error')\n",
    "plt.title('Training Error vs. Epochs')\n",
    "plt.show()"
   ]
  },
  {
   "cell_type": "code",
   "execution_count": 146,
   "metadata": {},
   "outputs": [
    {
     "name": "stdout",
     "output_type": "stream",
     "text": [
      "True Positive Rate (TPR): 1.0\n",
      "False Positive Rate (FPR): 0.037037037037037035\n"
     ]
    }
   ],
   "source": [
    "# Calculate TPR and FPR\n",
    "TPR = TP / (TP + FN)\n",
    "FPR = FP / (FP + TN)\n",
    "\n",
    "print(\"True Positive Rate (TPR):\", TPR)\n",
    "print(\"False Positive Rate (FPR):\", FPR)"
   ]
  },
  {
   "cell_type": "markdown",
   "metadata": {},
   "source": [
    "## Plot the ROC (eceiver operating characteristics) curve "
   ]
  },
  {
   "cell_type": "code",
   "execution_count": 157,
   "metadata": {},
   "outputs": [],
   "source": [
    "\n",
    "z = X_test @ w\n",
    "y_prob = sigmoid(z)\n",
    "\n",
    "# Sort by predicted y_prob\n",
    "sorted_indices = np.argsort(y_prob)[::-1]\n",
    "\n",
    "y_prob_sorted = y_prob[sorted_indices]\n",
    "y_test_sorted = y_test[sorted_indices]\n",
    "\n",
    "\n"
   ]
  },
  {
   "cell_type": "code",
   "execution_count": null,
   "metadata": {},
   "outputs": [],
   "source": []
  }
 ],
 "metadata": {
  "kernelspec": {
   "display_name": "venv",
   "language": "python",
   "name": "python3"
  },
  "language_info": {
   "codemirror_mode": {
    "name": "ipython",
    "version": 3
   },
   "file_extension": ".py",
   "mimetype": "text/x-python",
   "name": "python",
   "nbconvert_exporter": "python",
   "pygments_lexer": "ipython3",
   "version": "3.12.4"
  }
 },
 "nbformat": 4,
 "nbformat_minor": 2
}
