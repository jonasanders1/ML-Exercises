{
 "cells": [
  {
   "cell_type": "markdown",
   "id": "08e0b4da",
   "metadata": {},
   "source": [
    "Problem 3:\n",
    "\n",
    "In this problem, we will use multiple linear regression to predict the fuel consumption of cars (measured in miles per gallon). The available predictors are: (i) cylinders, (ii) displacement, (iii) horsepower, (iv) weight,\n",
    "(v) acceleration and (vi) model year. The dataset is named auto-mpg.csv, and can be found in Canvas."
   ]
  },
  {
   "cell_type": "code",
   "execution_count": 1,
   "id": "6e8b0cb1-b93c-4023-a0d7-6bdbc0cece1b",
   "metadata": {},
   "outputs": [],
   "source": [
    "import pandas as pd\n",
    "import numpy as np\n",
    "import matplotlib.pyplot as plt\n",
    "from sklearn.preprocessing import StandardScaler\n",
    "from sklearn.preprocessing import MinMaxScaler\n",
    "\n",
    "with open('auto-mpg.csv') as file:\n",
    "  lines = file.readlines()\n",
    "\n",
    "# Remove meta data\n",
    "data_lines = [line for line in lines if not line.startswith('#')]"
   ]
  },
  {
   "cell_type": "markdown",
   "id": "f24bee78",
   "metadata": {},
   "source": [
    "Structuring the data into separate columns"
   ]
  },
  {
   "cell_type": "code",
   "execution_count": 2,
   "id": "79d918e1",
   "metadata": {},
   "outputs": [
    {
     "data": {
      "text/html": [
       "<div>\n",
       "<style scoped>\n",
       "    .dataframe tbody tr th:only-of-type {\n",
       "        vertical-align: middle;\n",
       "    }\n",
       "\n",
       "    .dataframe tbody tr th {\n",
       "        vertical-align: top;\n",
       "    }\n",
       "\n",
       "    .dataframe thead th {\n",
       "        text-align: right;\n",
       "    }\n",
       "</style>\n",
       "<table border=\"1\" class=\"dataframe\">\n",
       "  <thead>\n",
       "    <tr style=\"text-align: right;\">\n",
       "      <th></th>\n",
       "      <th>MPG</th>\n",
       "      <th>Cylinders</th>\n",
       "      <th>Displacement</th>\n",
       "      <th>Horsepower</th>\n",
       "      <th>Weight</th>\n",
       "      <th>Acceleration</th>\n",
       "      <th>Model Year</th>\n",
       "    </tr>\n",
       "  </thead>\n",
       "  <tbody>\n",
       "    <tr>\n",
       "      <th>0</th>\n",
       "      <td>18.0</td>\n",
       "      <td>8.0</td>\n",
       "      <td>307.0</td>\n",
       "      <td>130.0</td>\n",
       "      <td>3504.0</td>\n",
       "      <td>12.0</td>\n",
       "      <td>70.0</td>\n",
       "    </tr>\n",
       "    <tr>\n",
       "      <th>1</th>\n",
       "      <td>15.0</td>\n",
       "      <td>8.0</td>\n",
       "      <td>350.0</td>\n",
       "      <td>165.0</td>\n",
       "      <td>3693.0</td>\n",
       "      <td>11.5</td>\n",
       "      <td>70.0</td>\n",
       "    </tr>\n",
       "    <tr>\n",
       "      <th>2</th>\n",
       "      <td>18.0</td>\n",
       "      <td>8.0</td>\n",
       "      <td>318.0</td>\n",
       "      <td>150.0</td>\n",
       "      <td>3436.0</td>\n",
       "      <td>11.0</td>\n",
       "      <td>70.0</td>\n",
       "    </tr>\n",
       "    <tr>\n",
       "      <th>3</th>\n",
       "      <td>16.0</td>\n",
       "      <td>8.0</td>\n",
       "      <td>304.0</td>\n",
       "      <td>150.0</td>\n",
       "      <td>3433.0</td>\n",
       "      <td>12.0</td>\n",
       "      <td>70.0</td>\n",
       "    </tr>\n",
       "    <tr>\n",
       "      <th>4</th>\n",
       "      <td>17.0</td>\n",
       "      <td>8.0</td>\n",
       "      <td>302.0</td>\n",
       "      <td>140.0</td>\n",
       "      <td>3449.0</td>\n",
       "      <td>10.5</td>\n",
       "      <td>70.0</td>\n",
       "    </tr>\n",
       "  </tbody>\n",
       "</table>\n",
       "</div>"
      ],
      "text/plain": [
       "    MPG  Cylinders  Displacement  Horsepower  Weight  Acceleration  Model Year\n",
       "0  18.0        8.0         307.0       130.0  3504.0          12.0        70.0\n",
       "1  15.0        8.0         350.0       165.0  3693.0          11.5        70.0\n",
       "2  18.0        8.0         318.0       150.0  3436.0          11.0        70.0\n",
       "3  16.0        8.0         304.0       150.0  3433.0          12.0        70.0\n",
       "4  17.0        8.0         302.0       140.0  3449.0          10.5        70.0"
      ]
     },
     "execution_count": 2,
     "metadata": {},
     "output_type": "execute_result"
    }
   ],
   "source": [
    "mpg = []\n",
    "cylinders = []\n",
    "displacements = []\n",
    "horsepowers = []\n",
    "weights = []\n",
    "accelerations = []\n",
    "model_years = []\n",
    "\n",
    "for line in data_lines:\n",
    "  mpg_value, cylinder, displacement, horsepower, weight, acceleration, model_year = line.split()\n",
    "  mpg.append(float(mpg_value))\n",
    "  cylinders.append(float(cylinder))\n",
    "  displacements.append(float(displacement))\n",
    "  horsepowers.append(float(horsepower))\n",
    "  weights.append(float(weight))\n",
    "  accelerations.append(float(acceleration))\n",
    "  model_years.append(float(model_year))\n",
    "\n",
    "data = pd.DataFrame({\n",
    "  'MPG': mpg,\n",
    "  'Cylinders': cylinders,\n",
    "  'Displacement': displacements,\n",
    "  'Horsepower': horsepowers,\n",
    "  'Weight': weights,\n",
    "  'Acceleration': accelerations,\n",
    "  'Model Year': model_years\n",
    "})\n",
    "data.head()"
   ]
  },
  {
   "cell_type": "markdown",
   "id": "3b4af179",
   "metadata": {},
   "source": [
    "Prepare data by extracting the features (X) from the target variable (y)"
   ]
  },
  {
   "cell_type": "code",
   "execution_count": 3,
   "id": "cd3b4128",
   "metadata": {},
   "outputs": [
    {
     "name": "stdout",
     "output_type": "stream",
     "text": [
      "Features:\n",
      "     Cylinders  Displacement  Horsepower  Weight  Acceleration  Model Year\n",
      "0          8.0         307.0       130.0  3504.0          12.0        70.0\n",
      "1          8.0         350.0       165.0  3693.0          11.5        70.0\n",
      "2          8.0         318.0       150.0  3436.0          11.0        70.0\n",
      "3          8.0         304.0       150.0  3433.0          12.0        70.0\n",
      "4          8.0         302.0       140.0  3449.0          10.5        70.0\n",
      "..         ...           ...         ...     ...           ...         ...\n",
      "387        4.0         140.0        86.0  2790.0          15.6        82.0\n",
      "388        4.0          97.0        52.0  2130.0          24.6        82.0\n",
      "389        4.0         135.0        84.0  2295.0          11.6        82.0\n",
      "390        4.0         120.0        79.0  2625.0          18.6        82.0\n",
      "391        4.0         119.0        82.0  2720.0          19.4        82.0\n",
      "\n",
      "[392 rows x 6 columns]\n",
      "Target value:\n",
      "      MPG\n",
      "0    18.0\n",
      "1    15.0\n",
      "2    18.0\n",
      "3    16.0\n",
      "4    17.0\n",
      "..    ...\n",
      "387  27.0\n",
      "388  44.0\n",
      "389  32.0\n",
      "390  28.0\n",
      "391  31.0\n",
      "\n",
      "[392 rows x 1 columns]\n"
     ]
    }
   ],
   "source": [
    "X = data[['Cylinders', 'Displacement', 'Horsepower', 'Weight', 'Acceleration', 'Model Year']]\n",
    "y = data[['MPG']]\n",
    "\n",
    "print('Features:')\n",
    "print(X)\n",
    "\n",
    "print('Target value:')\n",
    "print(y)"
   ]
  },
  {
   "cell_type": "markdown",
   "id": "7c0e8a21",
   "metadata": {},
   "source": [
    "Since y only contains one column, we need to convert y to 2D array(m, 1)\n",
    "(This got handled automatically by numpy, therefor no need to do it)"
   ]
  },
  {
   "cell_type": "code",
   "execution_count": 4,
   "id": "be48c8e1",
   "metadata": {},
   "outputs": [],
   "source": [
    "def linear_regression(X, y):\n",
    "\n",
    "    # Convert y to a 2D array (m, 1) (Handeled automatically by numpy, but added a check instead)\n",
    "    # y = y.values.reshape(-1, 1)\n",
    "\n",
    "    # If y is not already a 2D array, reshape it\n",
    "    if len(y.shape) == 1:\n",
    "        y = y.reshape(-1, 1)\n",
    "        \n",
    "    # Compute Theta using the normal equation\n",
    "    theta = np.linalg.inv(X.T @ X) @ X.T @ y\n",
    "    return theta"
   ]
  },
  {
   "cell_type": "code",
   "execution_count": 5,
   "id": "6995f08d",
   "metadata": {},
   "outputs": [],
   "source": [
    "# STANDARDIZATION - feature scaling method 1\n",
    "scaler = StandardScaler()\n",
    "X_scaled = scaler.fit_transform(X)\n",
    "\n",
    "# Now use X_scaled to fit your linear regression model\n",
    "theta_scaled = linear_regression(X_scaled, y)"
   ]
  },
  {
   "cell_type": "code",
   "execution_count": 6,
   "id": "59d6cce6",
   "metadata": {},
   "outputs": [],
   "source": [
    "# NORMALIZATION - feature scaling method \n",
    "scaler = MinMaxScaler()\n",
    "X_normalized = scaler.fit_transform(X)\n",
    "# Now use X_normalized to fit your linear regression model\n",
    "theta_normalized = linear_regression(X_normalized, y)"
   ]
  },
  {
   "cell_type": "code",
   "execution_count": 7,
   "id": "49153fb6",
   "metadata": {},
   "outputs": [
    {
     "name": "stdout",
     "output_type": "stream",
     "text": [
      "Estimated Parameters (Theta):\n",
      "        MPG\n",
      "0 -0.522609\n",
      "1  0.010221\n",
      "2 -0.020873\n",
      "3 -0.006395\n",
      "4 -0.052022\n",
      "5  0.610259\n",
      "Estimated Parameters (Theta) with Standardization:\n",
      "        MPG\n",
      "0 -0.561950\n",
      "1  0.802476\n",
      "2 -0.015045\n",
      "3 -5.764000\n",
      "4  0.234957\n",
      "5  2.771664\n",
      "Estimated Parameters (Theta) with Normalization:\n",
      "         MPG\n",
      "0   5.570452\n",
      "1  -3.171600\n",
      "2  42.304493\n",
      "3 -42.065934\n",
      "4  36.440853\n",
      "5  15.238099\n"
     ]
    }
   ],
   "source": [
    "# Each element in theta corresponds to a specific feature in my model, including the intercept. \n",
    "# The linear regression model predicts the target variable (y, which is MPG)\n",
    "\n",
    "theta = linear_regression(X, y)\n",
    "theta_standard = linear_regression(X_scaled, y)\n",
    "theta_normal = linear_regression(X_normalized, y)\n",
    "print(\"Estimated Parameters (Theta):\")\n",
    "print(theta)\n",
    "print(\"Estimated Parameters (Theta) with Standardization:\")\n",
    "print(theta_standard)\n",
    "print(\"Estimated Parameters (Theta) with Normalization:\")\n",
    "print(theta_normal)\n"
   ]
  },
  {
   "cell_type": "markdown",
   "id": "aa144780",
   "metadata": {},
   "source": [
    "Making predictions.\n",
    "Even tho theta has 6 elements that matches the X`s number of columns, i got 'matrices are not aligned' error\n",
    "This might be caused by X being an np.array and theta being a pd.DataFrame\n",
    "---> Need to convert theta to np.array"
   ]
  },
  {
   "cell_type": "code",
   "execution_count": 8,
   "id": "3a15c728",
   "metadata": {},
   "outputs": [
    {
     "name": "stdout",
     "output_type": "stream",
     "text": [
      "Predicted MPG values:\n"
     ]
    }
   ],
   "source": [
    "print(\"Predicted MPG values:\")\n",
    "# y_pred = X @ theta # This performs the matrix multiplication to get predictions\n"
   ]
  },
  {
   "cell_type": "code",
   "execution_count": 9,
   "id": "59f02c39",
   "metadata": {},
   "outputs": [
    {
     "name": "stdout",
     "output_type": "stream",
     "text": [
      "[[   8.   307.   130.  3504.    12.    70. ]\n",
      " [   8.   350.   165.  3693.    11.5   70. ]\n",
      " [   8.   318.   150.  3436.    11.    70. ]\n",
      " ...\n",
      " [   4.   135.    84.  2295.    11.6   82. ]\n",
      " [   4.   120.    79.  2625.    18.6   82. ]\n",
      " [   4.   119.    82.  2720.    19.4   82. ]]\n",
      "[[-0.5226089 ]\n",
      " [ 0.01022108]\n",
      " [-0.020873  ]\n",
      " [-0.00639456]\n",
      " [-0.05202195]\n",
      " [ 0.61025869]]\n",
      "Predicted MPG values:\n"
     ]
    },
    {
     "data": {
      "text/plain": [
       "array([[15.93081361],\n",
       "       [14.45720405],\n",
       "       [16.11263762],\n",
       "       [15.93670419],\n",
       "       [16.10071197]])"
      ]
     },
     "execution_count": 9,
     "metadata": {},
     "output_type": "execute_result"
    }
   ],
   "source": [
    "X = np.array(X)\n",
    "theta = np.array(theta)\n",
    "print(X)\n",
    "print(theta)\n",
    "\n",
    "y_pred = X @ theta\n",
    "print(\"Predicted MPG values:\")\n",
    "y_pred[:5]"
   ]
  },
  {
   "cell_type": "markdown",
   "id": "ca9a9c96",
   "metadata": {},
   "source": [
    "3C)  Evaluation of the model"
   ]
  },
  {
   "cell_type": "code",
   "execution_count": 10,
   "id": "b701da52",
   "metadata": {},
   "outputs": [
    {
     "name": "stdout",
     "output_type": "stream",
     "text": [
      "Mean Squared Error: 11.870425215015214\n",
      "R-squared: MPG    0.804643\n",
      "dtype: float64\n"
     ]
    },
    {
     "name": "stderr",
     "output_type": "stream",
     "text": [
      "/Users/jonasandersen/Library/CloudStorage/OneDrive-UiTOffice365/FYS-2021/Exercises/venv/lib/python3.12/site-packages/numpy/_core/fromnumeric.py:84: FutureWarning: The behavior of DataFrame.sum with axis=None is deprecated, in a future version this will reduce over both axes and return a scalar. To retain the old behavior, pass axis=0 (or do not pass axis)\n",
      "  return reduction(axis=axis, out=out, **passkwargs)\n"
     ]
    }
   ],
   "source": [
    "# Calculate the mean squared error\n",
    "mse = np.mean((y - y_pred) ** 2)\n",
    "print(f\"Mean Squared Error: {mse}\")\n",
    "\n",
    "\n",
    "\n",
    "# Calculate the total sum of squares (SS_total)\n",
    "ss_total = np.sum((y - np.mean(y)) ** 2)\n",
    "# Calculate the residual sum of squares (SS_residual)\n",
    "ss_residual = np.sum((y - y_pred) ** 2)\n",
    "# Calculate the R-squared value\n",
    "r_squared = 1 - (ss_residual / ss_total)\n",
    "print(f\"R-squared: {r_squared}\")\n",
    "\n",
    "\n"
   ]
  },
  {
   "cell_type": "code",
   "execution_count": 11,
   "id": "943d20cb",
   "metadata": {},
   "outputs": [
    {
     "data": {
      "image/png": "[encoded data removed]",
      "text/plain": [
       "<Figure size 640x480 with 1 Axes>"
      ]
     },
     "metadata": {},
     "output_type": "display_data"
    }
   ],
   "source": [
    "import matplotlib.pyplot as plt\n",
    "\n",
    "plt.scatter(y_pred, y)\n",
    "plt.xlabel(\"Actual MPG\")\n",
    "plt.ylabel(\"Predicted MPG\")\n",
    "plt.title(\"Actual vs Predicted MPG\")\n",
    "plt.show()\n"
   ]
  },
  {
   "cell_type": "markdown",
   "id": "6bf975c4",
   "metadata": {},
   "source": [
    "3B\n",
    "Explain why the magnitudes of the estimated coefficients are so different. What could be done to prevent this from happening?\n",
    "\n",
    "when feature s have varying units or ranges, the coefficients adjust to these scales, witch can lead to large differences in their magnitudes\n",
    "\n",
    "Eks:\n",
    "----> Cylinders might range from 4 to 8.\n",
    "----> Displacement could range from 100 to 500 cubic inches.\n",
    "\n",
    "when the coefficients have widely different magnitudes, it becomes challenging ot interpret their relative importance. \n",
    "Eks: \n",
    "---> A car`s cylinder, ranged from 4 to 8 in the data set, might have a bigger impact on the fuel consumption than the horse power of the car (measured in 100 - 500)\n",
    "\n",
    "Solution: Feature scaling\n",
    "to fix this, i can apply 'feature scaling' techniques like STANDARDIZATION or NORMALIZATION to my input features before fitting/training the model\n",
    "\n",
    "\n",
    "​"
   ]
  },
  {
   "cell_type": "markdown",
   "id": "f04f2efc",
   "metadata": {},
   "source": [
    "STANDARDIZATION\n",
    "--> transforming the features to have a mean of 0 and a standard of 1\n",
    "\n",
    "z = (x - μ (mean) ) / σ (deviation)"
   ]
  },
  {
   "cell_type": "markdown",
   "id": "16bfc48f",
   "metadata": {},
   "source": [
    "NORMALIZATION\n",
    "---> this scales the features to a fixed range, typically [0, 1]\n",
    "\n",
    "x′ = ( x − min(x) ) / ( max(x) − min(x) ) \n",
    "\n",
    "​\n"
   ]
  },
  {
   "cell_type": "markdown",
   "id": "cef75be4",
   "metadata": {},
   "source": []
  }
 ],
 "metadata": {
  "kernelspec": {
   "display_name": "Python 3 (ipykernel)",
   "language": "python",
   "name": "python3"
  },
  "language_info": {
   "codemirror_mode": {
    "name": "ipython",
    "version": 3
   },
   "file_extension": ".py",
   "mimetype": "text/x-python",
   "name": "python",
   "nbconvert_exporter": "python",
   "pygments_lexer": "ipython3",
   "version": "3.12.4"
  }
 },
 "nbformat": 4,
 "nbformat_minor": 5
}
