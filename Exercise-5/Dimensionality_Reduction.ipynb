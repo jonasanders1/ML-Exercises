{
 "cells": [
  {
   "cell_type": "markdown",
   "metadata": {},
   "source": [
    "# Problem 1\n",
    "\n",
    "* The file city-distances-sweden.csv provides pariwise, geodesic distances between 34 Swedish cities,\n",
    "and the corresponding names are in the file city-names-sweden.csv. \n",
    "* Based on these distances, we will\n",
    "in the following exercises estimate the coordinates of these cities relative to each other. \n"
   ]
  },
  {
   "cell_type": "markdown",
   "metadata": {},
   "source": [
    "### Problem 1 A\n",
    "* Describe the main difference between feature extraction and feature selection.\n",
    "* Describe the multidimensional scaling (MDS) algorithm and comment on its areas of use."
   ]
  },
  {
   "cell_type": "markdown",
   "metadata": {},
   "source": [
    "## Answer\n",
    "Both feature extraction and feature selection are methods used to reduce the number of features in a dataset. But there are some differences...\n",
    "\n",
    "#### Feature selection\n",
    "  Feature selection involves choosing a subset of the original features in the dataset without altering them. The goal is to remove irrelevant or redundant features, by retaining the most important ones. \n",
    "\n",
    "  EX: If i have 100 features in my dataset, i can apply feature selection algorithm to select the top 20 features based on their importance. (correlation analysis, mutual information etc.)\n",
    "\n",
    "  * Can improve performance \n",
    "  * Helps prevent over-fitting\n",
    "  * Simplifies the model\n",
    "\n",
    "\n",
    "#### Feature extraction\n",
    "  Feature extraction involves creating new features from the original ones by transforming them onto a lower-dimensional space. \n",
    "  It combines or compresses the existing features to produce new features that summarize the original data. \n",
    "\n",
    "  EX: A common feature extraction technique is `Principal Component Analysis` (PCA), \n",
    "  which transforms the original features into a new set of uncorrelated features called principal components that are \n",
    "  linear combos of the original features.\n",
    "\n",
    "\n",
    "  * More effective for reducing dimensionality as it can compress information from multiple features into a smaller number of features\n",
    "  * Helps improve the performance\n",
    "\n",
    "#### Multidimensional scaling (MDS) \n",
    "MDS is a technique used for visualizing the similarity or dissimilarity between data points in a lower-dimensional space, usually 2D or 3D.\n",
    "The goal of MDS is to represent high-dimensional data points as faithfully as possible in fewer dimensions based in pairwise distances between data points. \n",
    "\n",
    "#### How it works\n",
    "`Input` MDS takes as input a matrix of pairwise distances between points. These distances could be physical distances, similarity scores, or any metric representing how different data points are.\n",
    "\n",
    "`Objective` MDS tries to place each data point in a lower-dimensional space (2D or 3D)\n",
    "\n",
    "#### Types of MDS:\n",
    "\n",
    "`Classical MDS`: Uses eigenvalue decomposition to find the optimal configuration.\n",
    "`Non-metric MDS`: Tries to preserve the rank order of distances rather than exact distances.\n",
    "`Metric MDS`: Focuses on preserving the exact distances between points."
   ]
  },
  {
   "cell_type": "markdown",
   "metadata": {},
   "source": []
  },
  {
   "cell_type": "markdown",
   "metadata": {},
   "source": []
  }
 ],
 "metadata": {
  "language_info": {
   "name": "python"
  }
 },
 "nbformat": 4,
 "nbformat_minor": 2
}
