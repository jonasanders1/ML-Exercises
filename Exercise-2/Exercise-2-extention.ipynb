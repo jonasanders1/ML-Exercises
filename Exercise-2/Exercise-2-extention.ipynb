{
 "cells": [
  {
   "cell_type": "code",
   "execution_count": 1,
   "id": "a952ebbb-0754-438d-a243-290533176c45",
   "metadata": {},
   "outputs": [],
   "source": [
    "import pandas as pd\n",
    "import numpy as np\n",
    "import matplotlib.pyplot as plt\n",
    "from sklearn.model_selection import train_test_split # makes it easier to split the data set into to set\n",
    "from sklearn.metrics import accuracy_score\n",
    "from sklearn.linear_model import LinearRegression\n",
    "import joblib # module for saving the mode\n",
    "from sklearn.metrics import r2_score, mean_absolute_error, mean_squared_error, root_mean_squared_error\n",
    "\n",
    "with open(\"global-temperatures.csv\") as file:\n",
    "    lines = file.readlines()\n",
    "\n",
    "data_lines = [line for line in lines if not line.startswith('#')]\n",
    "\n",
    "\n",
    "years = []\n",
    "temperatures = []\n",
    "\n",
    "for line in data_lines:\n",
    "    year, temperature = line.split()\n",
    "    years.append(int(year))\n",
    "    temperatures.append(float(temperature))\n",
    "\n",
    "temperature_data = pd.DataFrame({\n",
    "    'Year': years,\n",
    "    'Temperature' : temperatures\n",
    "})\n",
    "\n",
    "X = temperature_data[['Year']].values\n",
    "y = temperature_data[['Temperature']].values"
   ]
  },
  {
   "cell_type": "code",
   "execution_count": 2,
   "id": "0df9003c-1e09-4491-a69d-76ddecfaa1d5",
   "metadata": {},
   "outputs": [
    {
     "data": {
      "text/plain": [
       "['temperature_predictor.joblib']"
      ]
     },
     "execution_count": 2,
     "metadata": {},
     "output_type": "execute_result"
    }
   ],
   "source": [
    "# Creating a test set\n",
    "X_train, X_test, y_train, y_test = train_test_split(X, y, test_size=0.2)\n",
    "\n",
    "model = LinearRegression()\n",
    "# Making the model train on the train data\n",
    "model.fit(X_train, y_train)\n",
    "\n",
    "joblib.dump(model, \"temperature_predictor.joblib\")"
   ]
  },
  {
   "cell_type": "code",
   "execution_count": 3,
   "id": "187c45ec-44c4-499a-aeeb-d15060b30cf6",
   "metadata": {},
   "outputs": [
    {
     "name": "stdout",
     "output_type": "stream",
     "text": [
      "R-squared: 0.8134866095022486\n"
     ]
    }
   ],
   "source": [
    "test_model = joblib.load(\"temperature_predictor.joblib\")\n",
    "\n",
    "# Testing the model on the test data\n",
    "predictions = test_model.predict(X_test)\n",
    "\n",
    "\n",
    "\n",
    "# This is not supported as this is a linear regression model and not a classification task\n",
    "# score = accuracy_score(y_test, predictions)\n",
    "\n",
    "\n",
    "# Calculate R-squared value\n",
    "r_squared = test_model.score(X, y)\n",
    "\n",
    "# Print the results\n",
    "print(f\"R-squared: {r_squared}\")"
   ]
  },
  {
   "cell_type": "code",
   "execution_count": 4,
   "id": "328824ad-4ef9-4422-bfe8-e0725c6f4ee4",
   "metadata": {},
   "outputs": [
    {
     "data": {
      "text/plain": [
       "array([[14.70286146]])"
      ]
     },
     "execution_count": 4,
     "metadata": {},
     "output_type": "execute_result"
    }
   ],
   "source": [
    "model = joblib.load(\"temperature_predictor.joblib\")\n",
    "\n",
    "prediction = model.predict([[2017]])\n",
    "prediction"
   ]
  },
  {
   "cell_type": "code",
   "execution_count": null,
   "id": "8639dffb",
   "metadata": {},
   "outputs": [],
   "source": []
  }
 ],
 "metadata": {
  "kernelspec": {
   "display_name": "Python 3 (ipykernel)",
   "language": "python",
   "name": "python3"
  },
  "language_info": {
   "codemirror_mode": {
    "name": "ipython",
    "version": 3
   },
   "file_extension": ".py",
   "mimetype": "text/x-python",
   "name": "python",
   "nbconvert_exporter": "python",
   "pygments_lexer": "ipython3",
   "version": "3.12.4"
  }
 },
 "nbformat": 4,
 "nbformat_minor": 5
}
